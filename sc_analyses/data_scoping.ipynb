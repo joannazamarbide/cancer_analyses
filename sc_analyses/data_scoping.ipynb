{
 "cells": [
  {
   "attachments": {},
   "cell_type": "markdown",
   "metadata": {},
   "source": [
    "### Scope Breast Cancer scRNAseq datasets from GEO\n",
    "The aim of this notebook is to identify a suitable breast cancer scRNAseq dataset for analysis."
   ]
  },
  {
   "cell_type": "markdown",
   "metadata": {},
   "source": [
    "#### Load libraries"
   ]
  },
  {
   "cell_type": "code",
   "execution_count": 5,
   "metadata": {},
   "outputs": [],
   "source": [
    "import numpy as np\n",
    "import pandas as pd\n",
    "import re"
   ]
  },
  {
   "cell_type": "markdown",
   "metadata": {},
   "source": [
    "#### Import geo-file"
   ]
  },
  {
   "cell_type": "code",
   "execution_count": 6,
   "metadata": {},
   "outputs": [],
   "source": [
    "# Query in GEO: ((\"breast cancer\") AND \"single\") AND \"Homo sapiens\"[porgn:__txid9606] \n",
    "# https://www.ncbi.nlm.nih.gov/\n",
    "# Save query files  \n",
    "\n",
    "# Load query file\n",
    "input_file = open(f'gds_result_single-cell.txt','r')\n",
    "file_input = input_file.read()\n",
    "input_file.close()\n",
    "\n",
    "# Split file per dataset\n",
    "geofile = re.split('\\n\\n'+'\\d*'+'\\. ', file_input)"
   ]
  },
  {
   "cell_type": "code",
   "execution_count": 7,
   "metadata": {},
   "outputs": [
    {
     "data": {
      "text/html": [
       "<div>\n",
       "<style scoped>\n",
       "    .dataframe tbody tr th:only-of-type {\n",
       "        vertical-align: middle;\n",
       "    }\n",
       "\n",
       "    .dataframe tbody tr th {\n",
       "        vertical-align: top;\n",
       "    }\n",
       "\n",
       "    .dataframe thead th {\n",
       "        text-align: right;\n",
       "    }\n",
       "</style>\n",
       "<table border=\"1\" class=\"dataframe\">\n",
       "  <thead>\n",
       "    <tr style=\"text-align: right;\">\n",
       "      <th></th>\n",
       "      <th>title</th>\n",
       "      <th>description</th>\n",
       "      <th>organism</th>\n",
       "      <th>data_type</th>\n",
       "      <th>platform_and_nsamples</th>\n",
       "      <th>geo_id</th>\n",
       "    </tr>\n",
       "  </thead>\n",
       "  <tbody>\n",
       "    <tr>\n",
       "      <th>0</th>\n",
       "      <td></td>\n",
       "      <td>[ We examine the transcriptional alterations i...</td>\n",
       "      <td>['Homo sapiens']</td>\n",
       "      <td>Expression profiling by high throughput sequen...</td>\n",
       "      <td>GPL18573 8 Samples</td>\n",
       "      <td>GSE229094</td>\n",
       "    </tr>\n",
       "    <tr>\n",
       "      <th>0</th>\n",
       "      <td>Evaluation of breast cancer PDX tumor heteroge...</td>\n",
       "      <td>[ Breast cancer is the most commonly diagnosed...</td>\n",
       "      <td>['Homo sapiens']</td>\n",
       "      <td>Expression profiling by high throughput sequen...</td>\n",
       "      <td>GPL30173 GPL20301 25 Samples</td>\n",
       "      <td>GSE235168</td>\n",
       "    </tr>\n",
       "    <tr>\n",
       "      <th>0</th>\n",
       "      <td>HSF1 excludes CD8+ T cells from breast tumors ...</td>\n",
       "      <td>[ Breast cancer cells or tumors underwent RNA-...</td>\n",
       "      <td>['Homo sapiens']</td>\n",
       "      <td>Expression profiling by high throughput sequen...</td>\n",
       "      <td>GPL24676 6 Samples</td>\n",
       "      <td>GSE236835</td>\n",
       "    </tr>\n",
       "    <tr>\n",
       "      <th>0</th>\n",
       "      <td>Genome-wide CRISPR screen reveals tumor-intrin...</td>\n",
       "      <td>[ Radiation therapy (RT) is one of the most co...</td>\n",
       "      <td>['Homo sapiens']</td>\n",
       "      <td>Expression profiling by high throughput sequen...</td>\n",
       "      <td>GPL21697 12 Samples</td>\n",
       "      <td>GSE236331</td>\n",
       "    </tr>\n",
       "    <tr>\n",
       "      <th>0</th>\n",
       "      <td>Droplet-based bisulfite sequencing for high-th...</td>\n",
       "      <td>[ We present a high-throughput and droplet-bas...</td>\n",
       "      <td>['Homo sapiens', 'Mus musculus']</td>\n",
       "      <td>Methylation profiling by high throughput seque...</td>\n",
       "      <td>GPL24676 GPL24247 GPL26363 8 Samples</td>\n",
       "      <td>GSE204691</td>\n",
       "    </tr>\n",
       "  </tbody>\n",
       "</table>\n",
       "</div>"
      ],
      "text/plain": [
       "                                               title  \\\n",
       "0                                                      \n",
       "0  Evaluation of breast cancer PDX tumor heteroge...   \n",
       "0  HSF1 excludes CD8+ T cells from breast tumors ...   \n",
       "0  Genome-wide CRISPR screen reveals tumor-intrin...   \n",
       "0  Droplet-based bisulfite sequencing for high-th...   \n",
       "\n",
       "                                         description  \\\n",
       "0  [ We examine the transcriptional alterations i...   \n",
       "0  [ Breast cancer is the most commonly diagnosed...   \n",
       "0  [ Breast cancer cells or tumors underwent RNA-...   \n",
       "0  [ Radiation therapy (RT) is one of the most co...   \n",
       "0  [ We present a high-throughput and droplet-bas...   \n",
       "\n",
       "                           organism  \\\n",
       "0                  ['Homo sapiens']   \n",
       "0                  ['Homo sapiens']   \n",
       "0                  ['Homo sapiens']   \n",
       "0                  ['Homo sapiens']   \n",
       "0  ['Homo sapiens', 'Mus musculus']   \n",
       "\n",
       "                                           data_type  \\\n",
       "0  Expression profiling by high throughput sequen...   \n",
       "0  Expression profiling by high throughput sequen...   \n",
       "0  Expression profiling by high throughput sequen...   \n",
       "0  Expression profiling by high throughput sequen...   \n",
       "0  Methylation profiling by high throughput seque...   \n",
       "\n",
       "                   platform_and_nsamples     geo_id  \n",
       "0                     GPL18573 8 Samples  GSE229094  \n",
       "0           GPL30173 GPL20301 25 Samples  GSE235168  \n",
       "0                     GPL24676 6 Samples  GSE236835  \n",
       "0                    GPL21697 12 Samples  GSE236331  \n",
       "0   GPL24676 GPL24247 GPL26363 8 Samples  GSE204691  "
      ]
     },
     "execution_count": 7,
     "metadata": {},
     "output_type": "execute_result"
    }
   ],
   "source": [
    "# Generate an object to store the dataset information\n",
    "class geo_dataset:\n",
    "    def __init__(self, title, description, organism, type, platform_and_n_samples, accession_num):\n",
    "        self.title = title,\n",
    "        self.description = description,\n",
    "        self.organism = organism, \n",
    "        self.data_type = type,\n",
    "        self.platform_and_nsamples = platform_and_n_samples,\n",
    "        self.geo_id = accession_num\n",
    "\n",
    "\n",
    "# Create empty list to append the dataset information\n",
    "datasets = []\n",
    "\n",
    "# Split 'files' into datasets\n",
    "for entry in geofile:\n",
    "    if 'GSE' in entry.split('Accession:')[1]:\n",
    "        abstract = []\n",
    "        if len(entry.split('(Submitter supplied)')[1].split('\\n')) >0:\n",
    "            abstract.append(entry.split('(Submitter supplied)')[1].split('\\n')[0])\n",
    "        else:\n",
    "            abstract.append('N/A')\n",
    "\n",
    "        # Create list of datasets\n",
    "        datasets.append(geo_dataset(title = entry.partition('\\n')[0],\n",
    "                                    description = abstract,\n",
    "                                    organism = str(entry.split('\\nOrganism:\\t')[1].split('\\n')[0].split('; ')),\n",
    "                                    type = str(entry.split('\\nType:\\t\\t')[1].split('\\n')[0]),\n",
    "                                    platform_and_n_samples = entry.split('\\nType:\\t\\t')[1].split(':')[1].split('\\n')[0],\n",
    "                                    accession_num = re.findall('GSE\\d*', entry)[2]))\n",
    "        \n",
    "# Transform into a dataframe\n",
    "datasets_df = pd.concat([pd.DataFrame.from_dict(dataset.__dict__) for dataset in datasets])\n",
    "datasets_df.head()"
   ]
  },
  {
   "cell_type": "code",
   "execution_count": 8,
   "metadata": {},
   "outputs": [],
   "source": [
    "# Save dataset\n",
    "#datasets_df.to_csv('brca_datasets_df.csv', index = False)"
   ]
  },
  {
   "cell_type": "code",
   "execution_count": 9,
   "metadata": {},
   "outputs": [],
   "source": [
    "# Filter out datasets from PDXs or cell lines\n",
    "#exclusion_patterns = ['MCF', 'MDA-MB', 'CRISPR', 'PDX', 'xenograft', ]"
   ]
  },
  {
   "cell_type": "code",
   "execution_count": null,
   "metadata": {},
   "outputs": [],
   "source": [
    "# Interesting datasets: GSE180878, GSE225600, GSE190870[not 10X, GSE167036 (is it 10x?), GSE198745 (only 2 samples), GSE123088 (too big), \n",
    "# GSE180286, GSE158399, GSE176078(good), GSE161529 (good!), GSE158724 (good!, snRNAseq), \n",
    "# I revised up to GSE162726 [do nt include]"
   ]
  }
 ],
 "metadata": {
  "kernelspec": {
   "display_name": "Python 3",
   "language": "python",
   "name": "python3"
  },
  "language_info": {
   "codemirror_mode": {
    "name": "ipython",
    "version": 3
   },
   "file_extension": ".py",
   "mimetype": "text/x-python",
   "name": "python",
   "nbconvert_exporter": "python",
   "pygments_lexer": "ipython3",
   "version": "3.8.7"
  },
  "orig_nbformat": 4
 },
 "nbformat": 4,
 "nbformat_minor": 2
}
